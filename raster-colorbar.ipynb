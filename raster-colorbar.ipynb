{
 "cells": [
  {
   "cell_type": "markdown",
   "id": "8d769889-61c6-450f-b597-d63122401943",
   "metadata": {},
   "source": [
    "# Map of Dyanmic Tiled COG with colorbar"
   ]
  },
  {
   "cell_type": "code",
   "execution_count": null,
   "id": "52b3d75d-f9ed-41da-91b1-cc09cd1071ad",
   "metadata": {},
   "outputs": [],
   "source": [
    "import requests\n",
    "import folium\n",
    "import json\n",
    "import pystac\n",
    "import branca\n",
    "from branca.colormap import LinearColormap"
   ]
  },
  {
   "cell_type": "code",
   "execution_count": null,
   "id": "21fa7f2e-562e-4e7a-8b99-5b66ac7efa8e",
   "metadata": {},
   "outputs": [],
   "source": [
    "tif = \"https://sentinel-s1-rtc-indigo.s3.us-west-2.amazonaws.com/tiles/RTC/1/IW/12/S/YJ/2016/S1B_20161121_12SYJ_ASC/Gamma0_VV.tif\""
   ]
  },
  {
   "cell_type": "code",
   "execution_count": null,
   "id": "1ebd2c92-3af5-4a65-a4c2-8c29b191ab54",
   "metadata": {},
   "outputs": [],
   "source": [
    "import xarray as xr\n",
    "import numpy as np\n",
    "da = xr.open_dataarray(tif, engine='rasterio', open_kwargs=dict(overview_level=3)).squeeze()\n",
    "da = np.sqrt(da)\n",
    "da.plot(cmap='gray', vmin=0, vmax=1);"
   ]
  },
  {
   "cell_type": "code",
   "execution_count": null,
   "id": "7f360aeb-32e7-42a3-9050-cb5da8188768",
   "metadata": {},
   "outputs": [],
   "source": [
    "cm = branca.colormap.linear.Greys_06.scale(0,1)\n",
    "cm.colors.reverse()\n",
    "cm = branca.colormap.LinearColormap(colors=cm.colors, caption='sqrt(gamma0)')\n",
    "cm"
   ]
  },
  {
   "cell_type": "code",
   "execution_count": null,
   "id": "c8441b7e-a5a6-4e13-8d0e-460b0bd38d81",
   "metadata": {},
   "outputs": [],
   "source": [
    "m = folium.Map(\n",
    "    location=(39.0666, -107.9367),\n",
    "    tiles=\"cartodbpositron\",\n",
    "    zoom_start=9,\n",
    "    control_scale = True,\n",
    ")\n",
    "\n",
    "# Add a public COG custom TIF layer using TiTiler (thanks devseed!)\n",
    "tiler = \"https://api.cogeo.xyz/cog/tiles/{z}/{x}/{y}\"\n",
    "expression = \"expression=sqrt(b1)&rescale=0,1\"\n",
    "virtual_tiles = f\"{tiler}?url={tif}&{expression}\"\n",
    "folium.TileLayer(tiles=virtual_tiles, overlay=True, name='Indigo RTC', attr=\"IndigoAg\").add_to(m)\n",
    "\n",
    "folium.LayerControl().add_to(m)\n",
    "\n",
    "# TODO: figure out positioning of this colorbar\n",
    "# - Log scale?\n",
    "# - Directly map matplotlib colorbar to branca\n",
    "# White background! https://github.com/python-visualization/branca/issues/91\n",
    "svg_style = '<style>svg {background-color: white;}</style>'\n",
    "m.get_root().header.add_child(folium.Element(svg_style))\n",
    "cm.add_to(m)\n",
    "\n",
    "m"
   ]
  },
  {
   "cell_type": "code",
   "execution_count": null,
   "id": "2d98d7c7-9961-4c82-96b3-ff4ded5fb3b6",
   "metadata": {},
   "outputs": [],
   "source": [
    "m.save(\"raster-colorbar.html\")"
   ]
  },
  {
   "cell_type": "code",
   "execution_count": null,
   "id": "1d95318d-1e07-4a86-9d73-33e41b866461",
   "metadata": {},
   "outputs": [],
   "source": []
  }
 ],
 "metadata": {
  "kernelspec": {
   "display_name": "Python 3 (ipykernel)",
   "language": "python",
   "name": "python3"
  },
  "language_info": {
   "codemirror_mode": {
    "name": "ipython",
    "version": 3
   },
   "file_extension": ".py",
   "mimetype": "text/x-python",
   "name": "python",
   "nbconvert_exporter": "python",
   "pygments_lexer": "ipython3",
   "version": "3.10.6"
  }
 },
 "nbformat": 4,
 "nbformat_minor": 5
}
