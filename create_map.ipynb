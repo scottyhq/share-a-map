{
 "cells": [
  {
   "cell_type": "code",
   "execution_count": null,
   "id": "52b3d75d-f9ed-41da-91b1-cc09cd1071ad",
   "metadata": {},
   "outputs": [],
   "source": [
    "import requests\n",
    "import folium\n",
    "import json\n",
    "import pystac"
   ]
  },
  {
   "cell_type": "code",
   "execution_count": null,
   "id": "c8441b7e-a5a6-4e13-8d0e-460b0bd38d81",
   "metadata": {},
   "outputs": [],
   "source": [
    "m = folium.Map(\n",
    "    location=(47.6062, -122.3321),\n",
    "    tiles=\"cartodbpositron\",\n",
    "    zoom_start=4,\n",
    ")\n",
    "\n",
    "snotel_stations = \"https://raw.githubusercontent.com/scottyhq/snotel/main/snotel-sites.geojson\"\n",
    "folium.GeoJson(snotel_stations, embed=False, name=\"snotel\").add_to(m)\n",
    "\n",
    "# Add a Planetary Computer Layer\n",
    "# Docs: https://planetarycomputer.microsoft.com/docs/quickstarts/using-the-data-api/\n",
    "\n",
    "# Get this url from Planetary computer Explorer\n",
    "item_url = \"https://planetarycomputer.microsoft.com/api/stac/v1/collections/sentinel-1-rtc/items/S1A_IW_GRDH_1SDV_20230111T234137_20230111T234202_046743_059A8C_rtc\"\n",
    "# Add to Map (PC data API takes care of dynamic tiling)\n",
    "item = pystac.Item.from_file(item_url)\n",
    "r = requests.get(item.assets[\"tilejson\"].href).json()\n",
    "tiles = r[\"tiles\"][0]\n",
    "folium.TileLayer(tiles=tiles, overlay=True, name='S1RTC', attr=\"Planetary Computer\").add_to(m)\n",
    "\n",
    "# Add a public COG custom TIF layer using TiTiler (thanks devseed!)\n",
    "tif = \"https://sentinel-s1-rtc-indigo.s3.us-west-2.amazonaws.com/tiles/RTC/1/IW/12/S/YJ/2016/S1B_20161121_12SYJ_ASC/Gamma0_VV.tif\"\n",
    "tiler = \"https://api.cogeo.xyz/cog/tiles/{z}/{x}/{y}\"\n",
    "expression = \"expression=sqrt(b1)&rescale=0,1\"\n",
    "virtual_tiles = f\"{tiler}?url={tif}&{expression}\"\n",
    "folium.TileLayer(tiles=virtual_tiles, overlay=True, name='12SYJ', attr=\"IndigoAg\").add_to(m)\n",
    "\n",
    "folium.LayerControl().add_to(m)\n",
    "\n",
    "m"
   ]
  },
  {
   "cell_type": "code",
   "execution_count": null,
   "id": "2d98d7c7-9961-4c82-96b3-ff4ded5fb3b6",
   "metadata": {},
   "outputs": [],
   "source": [
    "m.save(\"index.html\")"
   ]
  }
 ],
 "metadata": {
  "kernelspec": {
   "display_name": "Python 3 (ipykernel)",
   "language": "python",
   "name": "python3"
  },
  "language_info": {
   "codemirror_mode": {
    "name": "ipython",
    "version": 3
   },
   "file_extension": ".py",
   "mimetype": "text/x-python",
   "name": "python",
   "nbconvert_exporter": "python",
   "pygments_lexer": "ipython3",
   "version": "3.10.6"
  }
 },
 "nbformat": 4,
 "nbformat_minor": 5
}
