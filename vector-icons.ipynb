{
 "cells": [
  {
   "cell_type": "code",
   "execution_count": null,
   "id": "52b3d75d-f9ed-41da-91b1-cc09cd1071ad",
   "metadata": {},
   "outputs": [],
   "source": [
    "import requests\n",
    "import folium\n",
    "import json\n",
    "import pystac"
   ]
  },
  {
   "cell_type": "code",
   "execution_count": null,
   "id": "e2eb4261-a1a3-4b9b-b706-293b5f09cdaa",
   "metadata": {},
   "outputs": [],
   "source": [
    "import geopandas as gpd\n",
    "gf = gpd.read_file(\"https://raw.githubusercontent.com/scottyhq/snotel/main/snotel-sites.geojson\")\n",
    "all_fields = list(gf.drop(columns='geometry').columns)"
   ]
  },
  {
   "cell_type": "code",
   "execution_count": null,
   "id": "c8441b7e-a5a6-4e13-8d0e-460b0bd38d81",
   "metadata": {},
   "outputs": [],
   "source": [
    "m = folium.Map(\n",
    "    location=(47.6062, -122.3321),\n",
    "    tiles=\"stamenterrain\",\n",
    "    zoom_start= 4,\n",
    "    #max_zoom = 6, #tile layers possible override this\n",
    ")\n",
    "\n",
    "# Can also use geopandas explore() method here\n",
    "# #mymarker = folium.Marker(icon=folium.Icon(color='green')) # Having trouble overriding styling...\n",
    "mystyle = lambda x: {'color': 'green' if x['properties']['isActive']==True else 'red'}\n",
    "mymarker = folium.Circle(fill=False, radius=100)\n",
    "snotel_stations = \"https://raw.githubusercontent.com/scottyhq/snotel/main/snotel-sites.geojson\"\n",
    "gjson = folium.GeoJson(snotel_stations, \n",
    "                       embed=False, \n",
    "                       marker=mymarker,\n",
    "                       style_function=mystyle, \n",
    "                       name=\"snotel\").add_to(m)\n",
    "\n",
    "folium.features.GeoJsonTooltip(fields=[\"code\"], labels=False).add_to(gjson)\n",
    "folium.features.GeoJsonPopup(fields=all_fields, labels=True).add_to(gjson)\n",
    "\n",
    "# Add a Planetary Computer Layer\n",
    "# Docs: https://planetarycomputer.microsoft.com/docs/quickstarts/using-the-data-api/\n",
    "\n",
    "# Get this url from Planetary computer Explorer\n",
    "item_url = \"https://planetarycomputer.microsoft.com/api/stac/v1/collections/sentinel-1-rtc/items/S1A_IW_GRDH_1SDV_20230111T234137_20230111T234202_046743_059A8C_rtc\"\n",
    "# Add to Map (PC data API takes care of dynamic tiling)\n",
    "item = pystac.Item.from_file(item_url)\n",
    "r = requests.get(item.assets[\"tilejson\"].href).json()\n",
    "tiles = r[\"tiles\"][0]\n",
    "folium.TileLayer(tiles=tiles, overlay=True, name='PC RTC', attr=\"MS Planetary Computer\").add_to(m)\n",
    "\n",
    "# Add a public COG custom TIF layer using TiTiler (thanks devseed!)\n",
    "tif = \"https://sentinel-s1-rtc-indigo.s3.us-west-2.amazonaws.com/tiles/RTC/1/IW/12/S/YJ/2016/S1B_20161121_12SYJ_ASC/Gamma0_VV.tif\"\n",
    "tiler = \"https://api.cogeo.xyz/cog/tiles/{z}/{x}/{y}\"\n",
    "expression = \"expression=sqrt(b1)&rescale=0,1\"\n",
    "virtual_tiles = f\"{tiler}?url={tif}&{expression}\"\n",
    "folium.TileLayer(tiles=virtual_tiles, overlay=True, name='Indigo RTC', attr=\"IndigoAg\").add_to(m)\n",
    "\n",
    "folium.LayerControl().add_to(m)\n",
    "\n",
    "m"
   ]
  },
  {
   "cell_type": "code",
   "execution_count": null,
   "id": "2d98d7c7-9961-4c82-96b3-ff4ded5fb3b6",
   "metadata": {},
   "outputs": [],
   "source": [
    "m.save(\"map2.html\")"
   ]
  }
 ],
 "metadata": {
  "kernelspec": {
   "display_name": "Python 3 (ipykernel)",
   "language": "python",
   "name": "python3"
  },
  "language_info": {
   "codemirror_mode": {
    "name": "ipython",
    "version": 3
   },
   "file_extension": ".py",
   "mimetype": "text/x-python",
   "name": "python",
   "nbconvert_exporter": "python",
   "pygments_lexer": "ipython3",
   "version": "3.10.6"
  }
 },
 "nbformat": 4,
 "nbformat_minor": 5
}
